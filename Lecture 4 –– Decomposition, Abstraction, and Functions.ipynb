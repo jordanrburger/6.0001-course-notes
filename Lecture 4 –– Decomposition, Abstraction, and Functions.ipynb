{
 "cells": [
  {
   "cell_type": "markdown",
   "metadata": {},
   "source": [
    "# <center> Decomposition, Abstraction, and Functions <center> <font color=grey>––––––––––––––––––––––––––––––––––––––––-</font>"
   ]
  },
  {
   "cell_type": "markdown",
   "metadata": {},
   "source": [
    "### Review: How do we write code?\n",
    "––––––––––––––––––––––––––––––––––––––––\n",
    "\n",
    "> - So far ...\n",
    "    - covered language mechanisms\n",
    "    - know how to write different files for each computation\n",
    "    - each file is some piece of code\n",
    "    - each code is a sequence of instructions\n",
    "> - Problems with this approach:\n",
    "    - messy for larger problems\n",
    "    - hard to keep track of details\n",
    "    - how do you know the right info is supplied to the right part of code"
   ]
  },
  {
   "cell_type": "markdown",
   "metadata": {},
   "source": [
    "## Create Structure with Decomposition\n",
    "–––––––––––––––––––––––––––––––––––––––––––––––––––––––––\n",
    "\n",
    "> - In programming, divide code into <font color=red> **modules** </font>\n",
    "> - Modules are:\n",
    "    - self-contained\n",
    "    - used to **break up** code\n",
    "    - Intended to be **reusable**\n",
    "    - keep code **organized**\n",
    "    - **keep code coherent**\n",
    "> - This lecture, we achieve decomposition with **functions**\n",
    "> - In the upcoming lectures, it will be achieved with **classes**"
   ]
  },
  {
   "cell_type": "markdown",
   "metadata": {},
   "source": [
    "## Supress Details with Abstraction\n",
    "––––––––––––––––––––––––––––––––––––––––––––––––––\n",
    "> - In programming, think of a piece of code as a  **black box**\n",
    "    - cannot see detials\n",
    "    - does not need to see details\n",
    "    - does not want to see details\n",
    "    - hide tedious coding details\n",
    "> - achieve abstraction with **function specifications** or **docstrings**"
   ]
  },
  {
   "cell_type": "markdown",
   "metadata": {},
   "source": [
    "## Functions\n",
    "–––––––––––––––––\n",
    "> - Write reusable pieces/chunks of code, called <font color=red>**functions**</font>\n",
    "> - function are not run in a program until they are **\"called\"** or **\"invoked\"** in a program\n",
    "> - function characteristics:\n",
    "    - has a **name**\n",
    "    - has **parameters** (0 or more)\n",
    "    - has a **docstring**\n",
    "    - has a **body**\n",
    "    - **returns** something"
   ]
  },
  {
   "cell_type": "markdown",
   "metadata": {},
   "source": [
    "## How to Write and Call/Invoke a Function\n",
    "–––––––––––––––––––––––––––––––––––––––––––––––––––––––––––"
   ]
  },
  {
   "cell_type": "code",
   "execution_count": 1,
   "metadata": {},
   "outputs": [],
   "source": [
    "# Function Definition\n",
    "def is_even(i):\n",
    "    #docstring\n",
    "    \"\"\"\n",
    "    Input: i, a positive int\n",
    "    Returns True if i is even, otherwise False\n",
    "    \"\"\"\n",
    "    print(\"inside is_even\")\n",
    "    return i%2 == 0"
   ]
  },
  {
   "cell_type": "code",
   "execution_count": 4,
   "metadata": {},
   "outputs": [
    {
     "name": "stdout",
     "output_type": "stream",
     "text": [
      "inside is_even\n"
     ]
    },
    {
     "data": {
      "text/plain": [
       "True"
      ]
     },
     "execution_count": 4,
     "metadata": {},
     "output_type": "execute_result"
    }
   ],
   "source": [
    "#function call\n",
    "is_even(6)"
   ]
  },
  {
   "cell_type": "markdown",
   "metadata": {},
   "source": [
    "## Variable Scope\n",
    "–––––––––––––––––––––––––––––\n",
    "> - <font color = red> **formal parameter** </font> gets bound to the value of **actual parameter** when function is called\n",
    "> - new **scope/frame/environment** created when enter a function\n",
    "> - **scope** is mapping of name to objects"
   ]
  },
  {
   "cell_type": "code",
   "execution_count": 5,
   "metadata": {},
   "outputs": [],
   "source": [
    "def f(x):\n",
    "    x = x +1\n",
    "    print('in f(x): x =', x)\n",
    "    return x"
   ]
  },
  {
   "cell_type": "code",
   "execution_count": 6,
   "metadata": {},
   "outputs": [],
   "source": [
    "x = 3"
   ]
  },
  {
   "cell_type": "code",
   "execution_count": 8,
   "metadata": {},
   "outputs": [
    {
     "name": "stdout",
     "output_type": "stream",
     "text": [
      "in f(x): x = 4\n"
     ]
    }
   ],
   "source": [
    "z = f(x)"
   ]
  },
  {
   "cell_type": "code",
   "execution_count": 9,
   "metadata": {},
   "outputs": [
    {
     "data": {
      "text/plain": [
       "4"
      ]
     },
     "execution_count": 9,
     "metadata": {},
     "output_type": "execute_result"
    }
   ],
   "source": [
    "z"
   ]
  },
  {
   "cell_type": "markdown",
   "metadata": {},
   "source": [
    "#### Warning: If no return statement is included in a function, Python returns the value of  <font color = red> **None**</font>, representing the absence of a value"
   ]
  },
  {
   "cell_type": "markdown",
   "metadata": {},
   "source": [
    "## Reusing functions later on in code, example: is_even\n",
    "<font color= grey>––––––––––––––––––––––––––––––––––––––––––––––––––––––––––––</font>"
   ]
  },
  {
   "cell_type": "code",
   "execution_count": 12,
   "metadata": {},
   "outputs": [
    {
     "name": "stdout",
     "output_type": "stream",
     "text": [
      "All numbers between 0 and 20: even or not\n",
      "inside is_even\n",
      "0 even\n",
      "inside is_even\n",
      "1 odd\n",
      "inside is_even\n",
      "2 even\n",
      "inside is_even\n",
      "3 odd\n",
      "inside is_even\n",
      "4 even\n",
      "inside is_even\n",
      "5 odd\n",
      "inside is_even\n",
      "6 even\n",
      "inside is_even\n",
      "7 odd\n",
      "inside is_even\n",
      "8 even\n",
      "inside is_even\n",
      "9 odd\n",
      "inside is_even\n",
      "10 even\n",
      "inside is_even\n",
      "11 odd\n",
      "inside is_even\n",
      "12 even\n",
      "inside is_even\n",
      "13 odd\n",
      "inside is_even\n",
      "14 even\n",
      "inside is_even\n",
      "15 odd\n",
      "inside is_even\n",
      "16 even\n",
      "inside is_even\n",
      "17 odd\n",
      "inside is_even\n",
      "18 even\n",
      "inside is_even\n",
      "19 odd\n"
     ]
    }
   ],
   "source": [
    "print(\"All numbers between 0 and 20: even or not\")\n",
    "for i in range(20):\n",
    "    if is_even(i):\n",
    "        print(i, \"even\")\n",
    "    else:\n",
    "        print(i, \"odd\")"
   ]
  },
  {
   "cell_type": "markdown",
   "metadata": {},
   "source": [
    "## Functions as Arguments\n",
    "––––––––––––––––––––––––––––––––––\n",
    "> - Arguments can take on any type, even functions:"
   ]
  },
  {
   "cell_type": "code",
   "execution_count": 14,
   "metadata": {},
   "outputs": [
    {
     "name": "stdout",
     "output_type": "stream",
     "text": [
      "inside func_a\n",
      "None\n",
      "inside func_b\n",
      "7\n",
      "inside func_c\n",
      "<function func_a at 0x102deca60>\n"
     ]
    }
   ],
   "source": [
    "def func_a():\n",
    "    print('inside func_a')\n",
    "def func_b(y):\n",
    "    print('inside func_b')\n",
    "    return y\n",
    "def func_c(z):\n",
    "    print('inside func_c')\n",
    "    return(z)\n",
    "print(func_a())\n",
    "print(5+ func_b(2))\n",
    "print(func_c(func_a))"
   ]
  },
  {
   "cell_type": "markdown",
   "metadata": {},
   "source": [
    "## Scope Example\n",
    "––––––––––––––––––––––––\n",
    "> - The scope of a function **can accesss** a variable defined in the global scope\n",
    "> - Inside of a function, you **cannot modify** a variable defined in the global scope. This is only possible using **global variables** but is frowned upon"
   ]
  },
  {
   "cell_type": "markdown",
   "metadata": {},
   "source": [
    "<head>\n",
    "<style>\n",
    "table, th, td {\n",
    "  border: 1px solid black;\n",
    "}\n",
    "</style>\n",
    "</head>\n",
    "<body>\n",
    "\n",
    "<table style=\"width:100%;\">\n",
    "  <tr>\n",
    "    <th>Example 1</th>\n",
    "    <th>Example 2</th>\n",
    "      <th>Example 3</th>\n",
    "  </tr>\n",
    "  <tr style=\"height:100px\">\n",
    "    <td style=\"text-align:left\">\n",
    "     \n",
    "```python\n",
    "def f(y):\n",
    "    x = 1\n",
    "    x += 1\n",
    "    print(x)\n",
    "x = 5\n",
    "f(x)\n",
    "print(x)\n",
    "```\n",
    "      \n",
    "</td>\n",
    "<td style=\"text-align:left\">\n",
    "\n",
    "```python\n",
    "def g(y):\n",
    "    print(x)\n",
    "    print(x+1)\n",
    "x = 5\n",
    "g(x)\n",
    "print(x)\n",
    "```\n",
    "</td>\n",
    "<td style=\"text-align:left\">\n",
    "     \n",
    "```python\n",
    "def h(y):\n",
    "    x += 1\n",
    "x = 5 \n",
    "h(x)\n",
    "print(x)\n",
    "\n",
    "```\n",
    "      \n",
    "</td>\n",
    "  </tr>\n",
    "</table>\n",
    "\n",
    "</body>"
   ]
  },
  {
   "cell_type": "markdown",
   "metadata": {},
   "source": [
    "#### Example 1:\n",
    "<font color=grey>––––––––––––––––––––––––</font>"
   ]
  },
  {
   "cell_type": "code",
   "execution_count": 16,
   "metadata": {},
   "outputs": [
    {
     "name": "stdout",
     "output_type": "stream",
     "text": [
      "2\n",
      "5\n"
     ]
    }
   ],
   "source": [
    "def f(y):\n",
    "    x = 1\n",
    "    x += 1\n",
    "    print(x)\n",
    "x = 5\n",
    "f(x)\n",
    "print(x)"
   ]
  },
  {
   "cell_type": "markdown",
   "metadata": {},
   "source": [
    "#### Example 2:\n",
    "<font color=grey>––––––––––––––––––––––––</font>"
   ]
  },
  {
   "cell_type": "code",
   "execution_count": 17,
   "metadata": {},
   "outputs": [
    {
     "name": "stdout",
     "output_type": "stream",
     "text": [
      "5\n",
      "6\n",
      "5\n"
     ]
    }
   ],
   "source": [
    "def g(y):\n",
    "    print(x)\n",
    "    print(x+1)\n",
    "x = 5\n",
    "g(x)\n",
    "print(x)"
   ]
  },
  {
   "cell_type": "markdown",
   "metadata": {},
   "source": [
    "#### Example 3:\n",
    "<font color=grey>––––––––––––––––––––––––</font>"
   ]
  },
  {
   "cell_type": "code",
   "execution_count": 18,
   "metadata": {},
   "outputs": [
    {
     "ename": "UnboundLocalError",
     "evalue": "local variable 'x' referenced before assignment",
     "output_type": "error",
     "traceback": [
      "\u001b[0;31m---------------------------------------------------------------------------\u001b[0m",
      "\u001b[0;31mUnboundLocalError\u001b[0m                         Traceback (most recent call last)",
      "\u001b[0;32m<ipython-input-18-df85039d8d65>\u001b[0m in \u001b[0;36m<module>\u001b[0;34m()\u001b[0m\n\u001b[1;32m      2\u001b[0m     \u001b[0mx\u001b[0m \u001b[0;34m+=\u001b[0m \u001b[0;36m1\u001b[0m\u001b[0;34m\u001b[0m\u001b[0;34m\u001b[0m\u001b[0m\n\u001b[1;32m      3\u001b[0m \u001b[0mx\u001b[0m \u001b[0;34m=\u001b[0m \u001b[0;36m5\u001b[0m\u001b[0;34m\u001b[0m\u001b[0;34m\u001b[0m\u001b[0m\n\u001b[0;32m----> 4\u001b[0;31m \u001b[0mh\u001b[0m\u001b[0;34m(\u001b[0m\u001b[0mx\u001b[0m\u001b[0;34m)\u001b[0m\u001b[0;34m\u001b[0m\u001b[0;34m\u001b[0m\u001b[0m\n\u001b[0m\u001b[1;32m      5\u001b[0m \u001b[0mprint\u001b[0m\u001b[0;34m(\u001b[0m\u001b[0mx\u001b[0m\u001b[0;34m)\u001b[0m\u001b[0;34m\u001b[0m\u001b[0;34m\u001b[0m\u001b[0m\n",
      "\u001b[0;32m<ipython-input-18-df85039d8d65>\u001b[0m in \u001b[0;36mh\u001b[0;34m(y)\u001b[0m\n\u001b[1;32m      1\u001b[0m \u001b[0;32mdef\u001b[0m \u001b[0mh\u001b[0m\u001b[0;34m(\u001b[0m\u001b[0my\u001b[0m\u001b[0;34m)\u001b[0m\u001b[0;34m:\u001b[0m\u001b[0;34m\u001b[0m\u001b[0;34m\u001b[0m\u001b[0m\n\u001b[0;32m----> 2\u001b[0;31m     \u001b[0mx\u001b[0m \u001b[0;34m+=\u001b[0m \u001b[0;36m1\u001b[0m\u001b[0;34m\u001b[0m\u001b[0;34m\u001b[0m\u001b[0m\n\u001b[0m\u001b[1;32m      3\u001b[0m \u001b[0mx\u001b[0m \u001b[0;34m=\u001b[0m \u001b[0;36m5\u001b[0m\u001b[0;34m\u001b[0m\u001b[0;34m\u001b[0m\u001b[0m\n\u001b[1;32m      4\u001b[0m \u001b[0mh\u001b[0m\u001b[0;34m(\u001b[0m\u001b[0mx\u001b[0m\u001b[0;34m)\u001b[0m\u001b[0;34m\u001b[0m\u001b[0;34m\u001b[0m\u001b[0m\n\u001b[1;32m      5\u001b[0m \u001b[0mprint\u001b[0m\u001b[0;34m(\u001b[0m\u001b[0mx\u001b[0m\u001b[0;34m)\u001b[0m\u001b[0;34m\u001b[0m\u001b[0;34m\u001b[0m\u001b[0m\n",
      "\u001b[0;31mUnboundLocalError\u001b[0m: local variable 'x' referenced before assignment"
     ]
    }
   ],
   "source": [
    "def h(y):\n",
    "    x += 1\n",
    "x = 5 \n",
    "h(x)\n",
    "print(x)"
   ]
  },
  {
   "cell_type": "markdown",
   "metadata": {},
   "source": [
    "#### Helpful Resource: [Python Tutor Visualization](http://pythontutor.com/)"
   ]
  },
  {
   "cell_type": "code",
   "execution_count": null,
   "metadata": {},
   "outputs": [],
   "source": []
  }
 ],
 "metadata": {
  "kernelspec": {
   "display_name": "Python 3",
   "language": "python",
   "name": "python3"
  },
  "language_info": {
   "codemirror_mode": {
    "name": "ipython",
    "version": 3
   },
   "file_extension": ".py",
   "mimetype": "text/x-python",
   "name": "python",
   "nbconvert_exporter": "python",
   "pygments_lexer": "ipython3",
   "version": "3.6.8"
  }
 },
 "nbformat": 4,
 "nbformat_minor": 2
}
