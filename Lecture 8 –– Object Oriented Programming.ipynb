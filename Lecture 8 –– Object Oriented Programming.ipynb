{
 "cells": [
  {
   "cell_type": "markdown",
   "metadata": {},
   "source": [
    "# <center> Object Oriented Programming <center><font color=grey> –––––––––––––––––––––––––––––––––––</font>"
   ]
  },
  {
   "cell_type": "markdown",
   "metadata": {},
   "source": [
    "## Objects\n",
    "<font color=grey>––––––––––––––</font>\n",
    "\n",
    "> - Python supports many different kinds of data\n",
    "\n",
    "```python\n",
    "1234      3.14159    \"Hello\"    [1, 5, 7, 11, 13]\n",
    "{\"CA\": \"California\", \"MA\": \"Massachusetts\"}\n",
    "```\n",
    "> - Each is an <font color=red>**object**</font>, and every object has:\n",
    ">> - a **type**\n",
    ">> - an internal **data representation** (primitive or composite)\n",
    ">> - a set of procedures for **interaction** with the object\n",
    "\n",
    "> - An object is an **instance** of a type\n",
    ">>- ```1234``` is an instance of an ```int```\n",
    ">>- ```\"hello\"``` is an instance of a string\n",
    "\n",
    "### What are objects?\n",
    "<font color=grey>–––––––––––––––––––––––</font>\n",
    "> - In other words, objects are a ***data abstraction*** that capture:\n",
    "    1. An **internal representation**\n",
    "    >> - through data attributes\n",
    "    2. an **interface** for interacting with objects\n",
    "    >> - through methods (aka procedures/functions)\n",
    "    >> - defines behavior but hides implementation\n",
    "    \n"
   ]
  },
  {
   "cell_type": "markdown",
   "metadata": {},
   "source": [
    "# Object Oriented Programming (OOP)\n",
    "<font color=grey>––––––––––––––––––––––––––––––––––––––––––––––––––––––––</font>\n",
    ">- **Everything in Python is an object** (and has a type)\n",
    ">- You can **create new objects** of some type\n",
    ">- You can **manipulate objects**\n",
    ">- You can **destroy objects**\n",
    ">> - explicitely using ```del``` or just \"forget\" about them\n",
    ">> - Python will automatically reclaim destroyed or inaccessible objects - called \"garbage collection\""
   ]
  },
  {
   "cell_type": "code",
   "execution_count": null,
   "metadata": {},
   "outputs": [],
   "source": []
  },
  {
   "cell_type": "markdown",
   "metadata": {},
   "source": []
  }
 ],
 "metadata": {
  "kernelspec": {
   "display_name": "Python 3",
   "language": "python",
   "name": "python3"
  },
  "language_info": {
   "codemirror_mode": {
    "name": "ipython",
    "version": 3
   },
   "file_extension": ".py",
   "mimetype": "text/x-python",
   "name": "python",
   "nbconvert_exporter": "python",
   "pygments_lexer": "ipython3",
   "version": "3.6.8"
  }
 },
 "nbformat": 4,
 "nbformat_minor": 2
}
