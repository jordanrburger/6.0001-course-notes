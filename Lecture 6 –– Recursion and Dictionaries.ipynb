{
 "cells": [
  {
   "cell_type": "markdown",
   "metadata": {},
   "source": [
    "# <center> Recursion and Dictionaries <center><font color=grey> –––––––––––––––––––––––––––––––––––</font>"
   ]
  },
  {
   "cell_type": "markdown",
   "metadata": {},
   "source": [
    "## Recursion\n",
    "<font color=grey>––––––––––––––</font>\n",
    "> ## What is recursion?\n",
    "> - Recursion is the process of repeating items in a self-similar way\n",
    "<br>\n",
    "<br>\n",
    "    > - Algorthmically: a way to design solutions to problems by **divide-and-conquer** or **decrease-and-conquer** \n",
    "    - reduce a problem to simpler versions of the same problem\n",
    "    > - Semantically: a programming technique where a **function calls itself**\n",
    "    - In programming, the goal is to **not** have infinite recursion\n",
    "        - must have **1 or more base cases** that are easy to solve\n",
    "        - must solve the same problem on **some other input** with the goal of simplifying the larger problem input\n",
    "        \n",
    "<br>\n",
    "\n",
    "> ### Iterative algorithms so far\n",
    "<font color=grey>–––––––––––––––––––––––––––––––––––––––</font>\n",
    "> - Looping constructs (```while``` and ```for``` loops) lead to **iterative** algorithms\n",
    "> - Can capture computation in a set of **state variables** that update on each iteration through the loop \n",
    "    \n",
    "> #### Multiplication: Iterative Solution\n",
    "<font color=grey>––––––––––––––––––––––––––––––</font>\n",
    "    > - \"multiply $a * b$\" is equivalent to \"add a to itself b times\" (a + a + a + a... + a)\n",
    "    > - Capture **state** by:\n",
    "    - an **iteration** number(i) starts at b, each time through the loop, i reduces by 1 and stops when i = 0\n",
    "    - a current **value of computation** (result), which starts at zero and adds a every time through\n",
    "        \n",
    "```python\n",
    "def mult_iter(a,b):\n",
    "    result = 0\n",
    "    while b > 0:\n",
    "        result += a\n",
    "        b -= 1\n",
    "        return result\n",
    "```\n",
    "    "
   ]
  },
  {
   "cell_type": "code",
   "execution_count": 5,
   "metadata": {},
   "outputs": [],
   "source": [
    "def mult_iter(a,b):\n",
    "    result = 0\n",
    "    while b > 0: # iteration\n",
    "        result += a # current value of computation, a running sum\n",
    "        b -= 1 #current value of iteration variable\n",
    "        print(result)\n",
    "        return result"
   ]
  },
  {
   "cell_type": "code",
   "execution_count": 8,
   "metadata": {},
   "outputs": [
    {
     "name": "stdout",
     "output_type": "stream",
     "text": [
      "4\n"
     ]
    },
    {
     "data": {
      "text/plain": [
       "4"
      ]
     },
     "execution_count": 8,
     "metadata": {},
     "output_type": "execute_result"
    }
   ],
   "source": [
    "mult_iter(4,8)"
   ]
  },
  {
   "cell_type": "markdown",
   "metadata": {},
   "source": [
    "> #### Multiplication: Recursive Solution\n",
    "<font color=grey>––––––––––––––––––––––––––––––</font>\n",
    "    > - **Recursive step:**\n",
    "    - think how to reduce problem to a **simpler/smaller version** of same problem\n",
    "    > - **Base case**\n",
    "    - keep reducing the problem until you reach a simple case that can be **solved directly**\n",
    "    - when $$b = 1, a*b = a$$\n",
    "    \n",
    "\n",
    "$$a * b = (a + a + a + a + ... + a)$$ \n",
    "> (b times)\n",
    "<br>\n",
    "$$ = a + (a + a + a + ... + a) $$ \n",
    "> (b-1 times)\n",
    "<br>\n",
    "$$ = a + a * (b-1)$$\n",
    "    \n",
    "```python\n",
    "def mult(a, b):\n",
    "    if b == 1:\n",
    "        return a\n",
    "    else:\n",
    "        return a + mult(a, b-1)\n",
    "```"
   ]
  },
  {
   "cell_type": "code",
   "execution_count": 14,
   "metadata": {},
   "outputs": [],
   "source": [
    "def mult(a, b):\n",
    "    if b == 1: #base\n",
    "        return a #case\n",
    "    else:\n",
    "        return a + mult(a, b-1)"
   ]
  },
  {
   "cell_type": "code",
   "execution_count": 12,
   "metadata": {},
   "outputs": [
    {
     "data": {
      "text/plain": [
       "10"
      ]
     },
     "execution_count": 12,
     "metadata": {},
     "output_type": "execute_result"
    }
   ],
   "source": [
    "mult(2,5)"
   ]
  },
  {
   "cell_type": "markdown",
   "metadata": {},
   "source": [
    "> #### Factorial\n",
    "<font color=grey>–––––––––––––––</font>\n",
    "$$n! = n*(n-1)*(n-2)*(n-3) * ...  * 1$$ \n",
    "\n",
    "> - for what $n$ do we know the factorial?\n",
    "    - n = 1 –– \n",
    " ```python\n",
    "    if n == 1:\n",
    "         return 1\n",
    "    ```\n",
    "> how to reduce problem? Rewrite in terms of something simpler to reach base case"
   ]
  },
  {
   "cell_type": "code",
   "execution_count": null,
   "metadata": {},
   "outputs": [],
   "source": []
  },
  {
   "cell_type": "code",
   "execution_count": null,
   "metadata": {},
   "outputs": [],
   "source": []
  },
  {
   "cell_type": "code",
   "execution_count": null,
   "metadata": {},
   "outputs": [],
   "source": []
  },
  {
   "cell_type": "code",
   "execution_count": null,
   "metadata": {},
   "outputs": [],
   "source": []
  },
  {
   "cell_type": "code",
   "execution_count": null,
   "metadata": {},
   "outputs": [],
   "source": []
  },
  {
   "cell_type": "code",
   "execution_count": null,
   "metadata": {},
   "outputs": [],
   "source": []
  },
  {
   "cell_type": "code",
   "execution_count": null,
   "metadata": {},
   "outputs": [],
   "source": []
  },
  {
   "cell_type": "code",
   "execution_count": null,
   "metadata": {},
   "outputs": [],
   "source": []
  },
  {
   "cell_type": "code",
   "execution_count": null,
   "metadata": {},
   "outputs": [],
   "source": []
  },
  {
   "cell_type": "code",
   "execution_count": null,
   "metadata": {},
   "outputs": [],
   "source": []
  },
  {
   "cell_type": "code",
   "execution_count": null,
   "metadata": {},
   "outputs": [],
   "source": []
  },
  {
   "cell_type": "code",
   "execution_count": null,
   "metadata": {},
   "outputs": [],
   "source": []
  },
  {
   "cell_type": "code",
   "execution_count": null,
   "metadata": {},
   "outputs": [],
   "source": []
  },
  {
   "cell_type": "code",
   "execution_count": null,
   "metadata": {},
   "outputs": [],
   "source": []
  }
 ],
 "metadata": {
  "kernelspec": {
   "display_name": "Python 3",
   "language": "python",
   "name": "python3"
  },
  "language_info": {
   "codemirror_mode": {
    "name": "ipython",
    "version": 3
   },
   "file_extension": ".py",
   "mimetype": "text/x-python",
   "name": "python",
   "nbconvert_exporter": "python",
   "pygments_lexer": "ipython3",
   "version": "3.6.8"
  }
 },
 "nbformat": 4,
 "nbformat_minor": 2
}
