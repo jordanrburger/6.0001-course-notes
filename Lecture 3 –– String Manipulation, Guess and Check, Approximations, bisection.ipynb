{
 "cells": [
  {
   "cell_type": "markdown",
   "metadata": {},
   "source": [
    "# Lecture 3 –– String Manipulation, Guess and Check, Approximations, bisection"
   ]
  },
  {
   "cell_type": "markdown",
   "metadata": {},
   "source": [
    "## For Loops: Recap"
   ]
  },
  {
   "cell_type": "code",
   "execution_count": 1,
   "metadata": {},
   "outputs": [
    {
     "name": "stdout",
     "output_type": "stream",
     "text": [
      "4\n",
      "5\n"
     ]
    }
   ],
   "source": [
    "for var in range(4,6):\n",
    "    print(var)"
   ]
  },
  {
   "cell_type": "markdown",
   "metadata": {},
   "source": [
    "### String and Loops\n",
    "The two code snippets below do the same thing; however, the bottom one is more \"pythonic\""
   ]
  },
  {
   "cell_type": "markdown",
   "metadata": {},
   "source": [
    "##### Input string:"
   ]
  },
  {
   "cell_type": "code",
   "execution_count": 2,
   "metadata": {},
   "outputs": [],
   "source": [
    "s = \"abcdefghi\""
   ]
  },
  {
   "cell_type": "markdown",
   "metadata": {},
   "source": [
    "<head>\n",
    "<style>\n",
    "table, th, td {\n",
    "  border: 1px solid black;\n",
    "}\n",
    "</style>\n",
    "</head>\n",
    "<body>\n",
    "\n",
    "<table style=\"width:100%;\">\n",
    "  <tr>\n",
    "    <th style=\"text-align:center\">Less pythonic</th>\n",
    "      <th style=\"text-align:center\">More pythonic</th>\n",
    "  </tr>\n",
    "  <tr style=\"width:100px\">\n",
    "    <td style=\"text-align:left\">\n",
    "     \n",
    "```python\n",
    "for index in range(len(s)):\n",
    "    if s[index] == 'i' or s[index] == 'u':\n",
    "        print(\"There is an i or u\")\n",
    "```\n",
    "      \n",
    "</td>\n",
    "<td style=\"text-align:left\">\n",
    "\n",
    "```python\n",
    "for char in s:\n",
    "    if char == 'i' or char == 'u':\n",
    "        print(\"There is an i or u\")\n",
    "```\n",
    "</td>"
   ]
  },
  {
   "cell_type": "markdown",
   "metadata": {},
   "source": [
    "##### Snippet 1 \n",
    "**(less pythonic):**"
   ]
  },
  {
   "cell_type": "code",
   "execution_count": 3,
   "metadata": {},
   "outputs": [
    {
     "name": "stdout",
     "output_type": "stream",
     "text": [
      "There is an i or u\n"
     ]
    }
   ],
   "source": [
    "for index in range(len(s)):\n",
    "    if s[index] == 'i' or s[index] == 'u':\n",
    "        print(\"There is an i or u\")"
   ]
  },
  {
   "cell_type": "markdown",
   "metadata": {},
   "source": [
    "##### Snippet 2:\n",
    "**(more pythonic)**"
   ]
  },
  {
   "cell_type": "code",
   "execution_count": 4,
   "metadata": {},
   "outputs": [
    {
     "name": "stdout",
     "output_type": "stream",
     "text": [
      "There is an i or u\n"
     ]
    }
   ],
   "source": [
    "for char in s:\n",
    "    if char == 'i' or char == 'u':\n",
    "        print(\"There is an i or u\")"
   ]
  },
  {
   "cell_type": "markdown",
   "metadata": {},
   "source": [
    "### Worked Example: while loops and strings\n",
    "–– Objective: rewrite loop with a for loop \n",
    "\n",
    "–– Use case: when a word and enthusiasm level are entered by the user, a 'cheerleader' will cheer the word between 1 and 10 times depending on the enthusiasm level"
   ]
  },
  {
   "cell_type": "code",
   "execution_count": 5,
   "metadata": {},
   "outputs": [
    {
     "name": "stdout",
     "output_type": "stream",
     "text": [
      "I will cheer for you! Enter a word: Robots\n",
      "Enthusiasm level (1-10): 8\n"
     ]
    }
   ],
   "source": [
    "an_letters = \"aefhilmnorsxAEFHILMNORSX\"\n",
    "word = input(\"I will cheer for you! Enter a word: \")\n",
    "times = int(input(\"Enthusiasm level (1-10): \"))"
   ]
  },
  {
   "cell_type": "code",
   "execution_count": 6,
   "metadata": {},
   "outputs": [
    {
     "name": "stdout",
     "output_type": "stream",
     "text": [
      "Give me an R!R\n",
      "Give me an o!o\n",
      "Give me a b!b\n",
      "Give me an o!o\n",
      "Give me a t!t\n",
      "Give me an s!s\n",
      "What does that spell?\n",
      "Robots !!!\n",
      "Robots !!!\n",
      "Robots !!!\n",
      "Robots !!!\n",
      "Robots !!!\n",
      "Robots !!!\n",
      "Robots !!!\n",
      "Robots !!!\n"
     ]
    }
   ],
   "source": [
    "i = 0\n",
    "while i < len(word):\n",
    "    char = word[i]\n",
    "    if char in an_letters:\n",
    "        print(\"Give me an \" + char + \"!\" + char)\n",
    "    else:\n",
    "        print(\"Give me a \" + char + \"!\" + char)\n",
    "    i += 1\n",
    "print(\"What does that spell?\")\n",
    "for i in range(times):\n",
    "    print(word, \"!!!\")"
   ]
  },
  {
   "cell_type": "code",
   "execution_count": 7,
   "metadata": {},
   "outputs": [
    {
     "name": "stdout",
     "output_type": "stream",
     "text": [
      "Give me an R!R\n",
      "Give me an o!o\n",
      "Give me a b!b\n",
      "Give me an o!o\n",
      "Give me a t!t\n",
      "Give me an s!s\n",
      "What does that spell?\n",
      "Robots !!!\n",
      "Robots !!!\n",
      "Robots !!!\n",
      "Robots !!!\n",
      "Robots !!!\n",
      "Robots !!!\n",
      "Robots !!!\n",
      "Robots !!!\n"
     ]
    }
   ],
   "source": [
    "i = 0\n",
    "for char in word:\n",
    "    if char in an_letters:\n",
    "        print(\"Give me an \" + char + \"!\" + char)\n",
    "    else:\n",
    "        print(\"Give me a \" + char + \"!\" + char)\n",
    "    i += 1\n",
    "print(\"What does that spell?\")\n",
    "for i in range(times):\n",
    "    print(word, \"!!!\")"
   ]
  },
  {
   "cell_type": "markdown",
   "metadata": {},
   "source": [
    "# Algorithms: Guess and Check"
   ]
  },
  {
   "cell_type": "markdown",
   "metadata": {},
   "source": [
    "## Cube root –– "
   ]
  },
  {
   "cell_type": "markdown",
   "metadata": {},
   "source": [
    "First glance:"
   ]
  },
  {
   "cell_type": "code",
   "execution_count": 2,
   "metadata": {},
   "outputs": [
    {
     "name": "stdout",
     "output_type": "stream",
     "text": [
      "Cube root of 8 is 2\n"
     ]
    }
   ],
   "source": [
    "cube = 8\n",
    "for guess in range(cube+1):\n",
    "    if guess**3 == cube:\n",
    "        print(\"Cube root of\", cube, \"is\", guess)"
   ]
  },
  {
   "cell_type": "markdown",
   "metadata": {},
   "source": [
    "2nd iteration: (slightly better)"
   ]
  },
  {
   "cell_type": "code",
   "execution_count": 7,
   "metadata": {},
   "outputs": [
    {
     "name": "stdout",
     "output_type": "stream",
     "text": [
      "9 is not a perfect cube\n"
     ]
    }
   ],
   "source": [
    "cube = 9\n",
    "for guess in range(abs(cube)+1):\n",
    "    if guess**3 >= abs(cube):\n",
    "        break\n",
    "if guess **3 != abs(cube):\n",
    "    print(cube, 'is not a perfect cube')\n",
    "else: \n",
    "    if cube < 0:\n",
    "        guess = -guess\n",
    "    print('cube root of '+str(cube)+' is '+ str(guess))\n",
    "    "
   ]
  },
  {
   "cell_type": "markdown",
   "metadata": {},
   "source": [
    "# Algorithms: Approximate Solution"
   ]
  },
  {
   "cell_type": "code",
   "execution_count": null,
   "metadata": {},
   "outputs": [],
   "source": [
    "cube = 10000\n",
    "epsilon = 0.01\n",
    "guess = 0.0\n",
    "increment = 0.01\n",
    "num_guesses = 0\n",
    "while abs(guess**3 - cube) >= epsilon and guess <= cube:\n",
    "    guess += increment\n",
    "    num_guesses += 1\n",
    "    print('num_guesses =', num_guesses)\n",
    "    \n",
    "    if abs(guess**3 - cube) >= epsilon:\n",
    "        print('Failed on cube root of ', cube)\n",
    "    else:\n",
    "        print(guess, 'is close to the cube root of', cube)\n",
    "        "
   ]
  },
  {
   "cell_type": "markdown",
   "metadata": {},
   "source": [
    "# Algorithms: Bisection Search\n"
   ]
  },
  {
   "cell_type": "code",
   "execution_count": 3,
   "metadata": {},
   "outputs": [
    {
     "name": "stdout",
     "output_type": "stream",
     "text": [
      "num_guesses = 1\n",
      "6.75\n",
      "num_guesses = 2\n",
      "3.375\n",
      "num_guesses = 3\n",
      "1.6875\n",
      "num_guesses = 4\n",
      "2.53125\n",
      "num_guesses = 5\n",
      "2.953125\n",
      "num_guesses = 6\n",
      "3.1640625\n",
      "num_guesses = 7\n",
      "3.05859375\n",
      "num_guesses = 8\n",
      "3.005859375\n",
      "num_guesses = 9\n",
      "2.9794921875\n",
      "num_guesses = 10\n",
      "2.99267578125\n",
      "num_guesses = 11\n",
      "2.999267578125\n",
      "num_guesses = 12\n",
      "3.0025634765625\n",
      "num_guesses = 13\n",
      "3.00091552734375\n",
      "num_guesses = 14\n",
      "3.000091552734375\n",
      "num_guesses = 15\n",
      "2.9996795654296875\n",
      "num_guesses = 16\n",
      "2.9998855590820312\n",
      "num_guesses = 17\n",
      "2.999988555908203\n"
     ]
    }
   ],
   "source": [
    "cube = 27\n",
    "epsilon = 0.001\n",
    "num_guesses = 0\n",
    "low = 0\n",
    "high = cube\n",
    "guess = (high+low)/2.0\n",
    "while abs(guess**3 - cube) >= epsilon:\n",
    "    if guess**3 < cube:\n",
    "        low = guess\n",
    "    else:\n",
    "        high = guess\n",
    "    guess = (high+low)/2.0\n",
    "    num_guesses += 1\n",
    "    print('num_guesses =', num_guesses)\n",
    "    print(guess)\n"
   ]
  },
  {
   "cell_type": "code",
   "execution_count": null,
   "metadata": {},
   "outputs": [],
   "source": []
  }
 ],
 "metadata": {
  "kernelspec": {
   "display_name": "Python 3",
   "language": "python",
   "name": "python3"
  },
  "language_info": {
   "codemirror_mode": {
    "name": "ipython",
    "version": 3
   },
   "file_extension": ".py",
   "mimetype": "text/x-python",
   "name": "python",
   "nbconvert_exporter": "python",
   "pygments_lexer": "ipython3",
   "version": "3.6.8"
  }
 },
 "nbformat": 4,
 "nbformat_minor": 2
}
